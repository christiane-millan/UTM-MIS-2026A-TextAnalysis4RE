{
 "cells": [
  {
   "cell_type": "markdown",
   "id": "e40ef666",
   "metadata": {},
   "source": [
    "# Práctica: Diferentes métodos de tokenización\n",
    "\n",
    "El objetivo de este ejercicio es aplicar distintos métodos de tokenización sobre un mismo texto y comparar los resultados.\n",
    "\n",
    "**Instrucciones:**\n",
    "\n",
    "1.\tUtiliza el texto `corpus` \n",
    "2.\tTokenización por oraciones: Utiliza `sent_tokenize` para dividir el texto en oraciones completas.\n",
    "3.\tTokenización por palabras: Aplica `word_tokenize` sobre el texto completo.\n",
    "4.\tTokenización con expresiones regulares `regexp_tokenize`: Extrae solo palabras y números usando el patrón \\w+.\n",
    "\t•\tExtrae solo hashtags y menciones usando el patrón [@#]\\w+.\n",
    "5.\tTokenización de tuits con TweetTokenizer\n",
    "\t•\tTokeniza el texto usando esta clase.\n",
    "\t•\tObserva cómo separa hashtags, menciones y emojis.\n",
    "6.\tReflexión final\n",
    "\t•\t¿Qué diferencias encuentras entre word_tokenize y TweetTokenizer?\n",
    "\t•\t¿En qué situaciones sería mejor usar expresiones regulares en lugar de un tokenizador predefinido?\n",
    "\n",
    "⸻\n"
   ]
  },
  {
   "cell_type": "code",
   "execution_count": null,
   "id": "ad62e73a",
   "metadata": {},
   "outputs": [],
   "source": [
    "corpus = \"\"\"The Contractor shall provide a web-based system to support the management of student records for the University. The system must comply with the following requirements:\n",
    "\n",
    "1. User Authentication and Security\n",
    "- The system shall support multi-factor authentication for all administrative users 🔐.  \n",
    "- All data transmissions must be encrypted using TLS 1.3 or higher.  \n",
    "- The solution shall comply with GDPR and FERPA regulations. #DataPrivacy  \n",
    "\n",
    "2. Data Management\n",
    "- The system shall allow importing and exporting student data in CSV and JSON formats 📊.  \n",
    "- The database must be able to handle at least 100,000 active student records without performance degradation.  \n",
    "- Backup and recovery processes must ensure data integrity with no more than 5 minutes of downtime. @TechSupport  \n",
    "\n",
    "3. Reporting and Analytics\n",
    "- The solution shall provide built-in dashboards for enrollment, grades, and attendance 📈.  \n",
    "- Users shall be able to generate custom reports using filters such as program, semester, and student status.  \n",
    "- Reports must be exportable in PDF and Excel formats. 🚀 #SmartUniversity  \n",
    "\"\"\""
   ]
  }
 ],
 "metadata": {
  "language_info": {
   "name": "python"
  }
 },
 "nbformat": 4,
 "nbformat_minor": 5
}
