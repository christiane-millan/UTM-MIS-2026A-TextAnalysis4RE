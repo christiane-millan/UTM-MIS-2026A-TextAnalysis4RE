{
 "cells": [
  {
   "cell_type": "markdown",
   "metadata": {},
   "source": [
    "# Fundamentos de regex\n",
    "\n",
    "## El carácter de nueva línea\n",
    "\n",
    "El carácter creado por presionar la tecla enter o return es frecuentemente referido como carácter de nueva línea. Este se representa como `\\n` en sintaxis de regex.\n",
    "\n",
    "**Nota**: Algunos sistemas operativos y versiones de regex tratan el carácter de nueva línea como `\\r`.\n",
    "\n"
   ]
  },
  {
   "cell_type": "code",
   "execution_count": 4,
   "metadata": {},
   "outputs": [
    {
     "name": "stdout",
     "output_type": "stream",
     "text": [
      "Hello\n",
      "world\n"
     ]
    }
   ],
   "source": [
    "# reemplazar , por \\n\n",
    "\n",
    "import re\n",
    "text = \"Hello,world\"\n",
    "\n",
    "new_text = re.sub(',', r'\\n', text)\n",
    "print(new_text)"
   ]
  },
  {
   "cell_type": "markdown",
   "metadata": {},
   "source": [
    "Encontrar el espaciado doble"
   ]
  },
  {
   "cell_type": "code",
   "execution_count": null,
   "metadata": {},
   "outputs": [
    {
     "name": "stdout",
     "output_type": "stream",
     "text": [
      "The quick brown fox jumps over the lazy dog\n"
     ]
    }
   ],
   "source": [
    "some_text = \"\"\"\n",
    "The quick brown \n",
    "fox jumps over the \n",
    "lazy dog\n",
    "\"\"\"\n",
    "\n",
    "new_some_text = re.sub('\\n', '', some_text)\n",
    "print(new_some_text)\n"
   ]
  },
  {
   "cell_type": "code",
   "execution_count": null,
   "metadata": {},
   "outputs": [
    {
     "name": "stdout",
     "output_type": "stream",
     "text": [
      "\n",
      "The quick brown \n",
      "fox jumps over the \n",
      "lazy dog\n",
      "\n"
     ]
    }
   ],
   "source": [
    "some_text = \"\"\"\n",
    "The quick brown\n",
    "\n",
    "\n",
    "fox jumps over the \n",
    "\n",
    "\n",
    "lazy dog\n",
    "\"\"\"\n",
    "\n",
    "new_some_text = re.sub('\\n\\n', '\\n', some_text)\n",
    "print(new_some_text)"
   ]
  },
  {
   "cell_type": "markdown",
   "metadata": {},
   "source": [
    "## Correspondencia de uno o más "
   ]
  },
  {
   "cell_type": "code",
   "execution_count": null,
   "metadata": {},
   "outputs": [
    {
     "name": "stdout",
     "output_type": "stream",
     "text": [
      "\n",
      "Dear Mr. Stanley\n",
      "I don't know how to answer your question - I see no contradiction.\n",
      "\n",
      "All you have to do is, from time to time -- in spite of everything, \n",
      "just try to examine a problem in a novel way.\n",
      "\n",
      "\n",
      "You won't \"stifle the creative process\" if you remember to think\n",
      "from time to time. Don't you have time to think?\n",
      "\n"
     ]
    }
   ],
   "source": [
    "letter = '''\n",
    "Dear Mr. Stanley\n",
    "\n",
    "I don't know how to answer your question - I see no contradiction.\n",
    "\n",
    "All you have to do is, from time to time -- in spite of everything, \n",
    "just try to examine a problem in a novel way.\n",
    "\n",
    "You won't \"stifle the creative process\" if you remember to think\n",
    "from time to time. Don't you have time to think?\n",
    "'''\n",
    "\n",
    "new_letter = re.sub('\\n\\n', '\\n', letter)\n",
    "print(new_letter)"
   ]
  },
  {
   "cell_type": "markdown",
   "metadata": {},
   "source": [
    "El operador *plus*\n",
    "\n",
    "El operador `+` es utilizado para coincidir uno o más instancias de un patrón que procede. Por ejemplo:\n",
    "\n",
    "```text\n",
    "a+\n",
    "```\n",
    "\n",
    "corresponde a cualquier ocurrencia de uno o más letras consecutivas `a`, sea `a`, `aa` o `aaaaaaa`.\n",
    "\n"
   ]
  },
  {
   "cell_type": "markdown",
   "metadata": {},
   "source": [
    "### Ejercicio: Variedad de espacios\n"
   ]
  },
  {
   "cell_type": "code",
   "execution_count": null,
   "metadata": {},
   "outputs": [],
   "source": [
    "letter = '''\n",
    "Dear Mr. Stanley,\n",
    "\n",
    "\n",
    "\n",
    "I don’t know how to answer your question -- I see no contradiction.\n",
    "\n",
    "\n",
    "All you have to do is, from time to time -- in spite of everything,\n",
    "\n",
    "just try to examine a problem in a novel way.\n",
    "\n",
    "\n",
    "\n",
    "\n",
    "\n",
    "You won’t “stifle the creative process” if you remember to think\n",
    "\n",
    "\n",
    "from time to time. Don’t you have time to think?\n",
    "'''"
   ]
  },
  {
   "cell_type": "code",
   "execution_count": null,
   "metadata": {},
   "outputs": [],
   "source": [
    "new_letter = re.sub('___', '__', letter)\n",
    "print(new_letter)"
   ]
  },
  {
   "cell_type": "markdown",
   "metadata": {},
   "source": [
    "### Ejercicio: Espacios consecutivos en HTML"
   ]
  },
  {
   "cell_type": "code",
   "execution_count": 7,
   "metadata": {},
   "outputs": [],
   "source": [
    "html = \"\"\"\n",
    "<html>\n",
    "    <head>\n",
    "    </head>\n",
    "    <body>\n",
    "        <h1>This is a headline</h1>\n",
    "        <hr>\n",
    "        <p>This is                                                paragraph\n",
    "\n",
    "                    text\n",
    "\n",
    "\n",
    "                    used as                           filler text\n",
    "                            for\n",
    "                                        a\n",
    "                    paragraph.\n",
    "\n",
    "                    </p>\n",
    "    </body>\n",
    "</html>\n",
    "\"\"\""
   ]
  },
  {
   "cell_type": "markdown",
   "metadata": {},
   "source": [
    "Después de una extracción de datos con web scraping"
   ]
  },
  {
   "cell_type": "code",
   "execution_count": null,
   "metadata": {},
   "outputs": [
    {
     "data": {
      "text/plain": [
       "' This is                                                paragraph                     text                     used as                           filler text                             for                                         a                     paragraph.                      '"
      ]
     },
     "execution_count": 8,
     "metadata": {},
     "output_type": "execute_result"
    }
   ],
   "source": [
    "text = \"\"\"\n",
    "This is                                                paragraph\n",
    "\n",
    "                    text\n",
    "\n",
    "\n",
    "                    used as                           filler text\n",
    "                            for\n",
    "                                        a\n",
    "                    paragraph.\n",
    "\n",
    "                    \n",
    "\"\"\"\n"
   ]
  },
  {
   "cell_type": "code",
   "execution_count": null,
   "metadata": {},
   "outputs": [],
   "source": [
    "re.sub(r'___', ' ', text)"
   ]
  },
  {
   "cell_type": "markdown",
   "metadata": {},
   "source": [
    "Para resolver los espacios en blanco, se utilizar el mismo el mismo patrón, pero en lugar de `\\n`, se utiliza un espacio en blanco."
   ]
  },
  {
   "cell_type": "code",
   "execution_count": null,
   "metadata": {},
   "outputs": [],
   "source": [
    "re.sub(r'____', ' ', text)"
   ]
  },
  {
   "cell_type": "markdown",
   "metadata": {},
   "source": [
    "## Barra invertida-s\n",
    "\n",
    "La mayoría de los lenguajes regex tienen un símbolo que maneja tanto espacios en blanco como caracteres de nuevas líneas: `\\s`."
   ]
  },
  {
   "cell_type": "code",
   "execution_count": 9,
   "metadata": {},
   "outputs": [
    {
     "data": {
      "text/plain": [
       "' This is paragraph text used as filler text for a paragraph. '"
      ]
     },
     "execution_count": 9,
     "metadata": {},
     "output_type": "execute_result"
    }
   ],
   "source": [
    "text = \"\"\"\n",
    "This is                                                paragraph\n",
    "\n",
    "                    text\n",
    "\n",
    "\n",
    "                    used as                           filler text\n",
    "                            for\n",
    "                                        a\n",
    "                    paragraph.\n",
    "\n",
    "                    \n",
    "\"\"\"\n",
    "\n",
    "re.sub(r'\\s+', ' ', text)"
   ]
  },
  {
   "cell_type": "markdown",
   "metadata": {},
   "source": [
    "## Correspondencia de cero o más con el signo `*`\n",
    "\n",
    "El operador estrella `*` es utilizado para correspondencia de cero o más  de los patrones que precede. Por ejemplo: \n",
    "\n",
    "```text\n",
    "e*\n",
    "```\n",
    "\n",
    "corresponde a cualquier ocurrencia de cero o más letras consecutivas `e` . El patrón `be*g` corresponde con:\n",
    "\n",
    "```text\n",
    "beg\n",
    "beeeg\n",
    "bg\n",
    "```\n",
    "\n",
    "### Ejercicio: Baaa!\n",
    "\n",
    "El siguiente párrafo tiene una variedad de expresiones basadas en Baa!"
   ]
  },
  {
   "cell_type": "code",
   "execution_count": 10,
   "metadata": {},
   "outputs": [
    {
     "data": {
      "text/plain": [
       "'The first sheep says \"Baa!\" Another sheep says \"Baaaa!!!\". In reply, the sheep says, \\n\"Baaaaaa\". Another \"Baaa\" is heard. Finally, there’s a \"Baaaa!\"\\n'"
      ]
     },
     "execution_count": 10,
     "metadata": {},
     "output_type": "execute_result"
    }
   ],
   "source": [
    "paragraph = \"\"\"The first sheep says \"Baa!\" Another sheep says \"Baaaa!!!\". In reply, the sheep says, \n",
    "\"Baaaaaa\". Another \"Baaa\" is heard. Finally, there’s a \"Baaaa!\"\n",
    "\"\"\"\n",
    "\n",
    "# Convert all to \"Baa!\"\n",
    "re.sub(r'___', '____', paragraph)"
   ]
  },
  {
   "cell_type": "markdown",
   "metadata": {},
   "source": [
    "## Repeticiones especificas y limitadas\n",
    "\n",
    "En algunas ocasiones será necesario hacer correspondencia con algo que se repite más de una vez, pero menos de infinito.\n",
    "\n",
    "### Llaves\n",
    "\n",
    "Para capturar **n** repeticiones de un patrón donde **n** es el número de repeticiones, utilizar el siguiente patrón: `a{4}`, esto coincidirá con cuatro caracteres `a` exactamente.\n",
    "\n",
    "**Ejercicio de ceros a millones.**"
   ]
  },
  {
   "cell_type": "code",
   "execution_count": 11,
   "metadata": {},
   "outputs": [],
   "source": [
    "numbers = \"\"\"\n",
    "100\n",
    "2000\n",
    "500000\n",
    "4000000\n",
    "2000000\n",
    "1000000\n",
    "8000\n",
    "9000000\n",
    "\"\"\"\n",
    "\n",
    "# Reemplazar los ceros con millones para los números que tienen exactamente seis ceros."
   ]
  },
  {
   "cell_type": "markdown",
   "metadata": {},
   "source": [
    "Salida esperada: \n",
    "\n",
    "```text\n",
    "100\n",
    "2000\n",
    "500000\n",
    "4 million\n",
    "2 million\n",
    "1 million\n",
    "8000\n",
    "9 million\n",
    "```"
   ]
  },
  {
   "cell_type": "code",
   "execution_count": null,
   "metadata": {},
   "outputs": [
    {
     "data": {
      "text/plain": [
       "'\\n100\\n2000\\n500000\\n4000000\\n2000000\\n1000000\\n8000\\n9000000\\n'"
      ]
     },
     "execution_count": 12,
     "metadata": {},
     "output_type": "execute_result"
    }
   ],
   "source": [
    "# Convert zeros to millions\n",
    "re.sub(r'___', '____', numbers)"
   ]
  },
  {
   "cell_type": "markdown",
   "metadata": {},
   "source": [
    "Repetir el código anterior con los siguientes números:\n"
   ]
  },
  {
   "cell_type": "code",
   "execution_count": 13,
   "metadata": {},
   "outputs": [],
   "source": [
    "numbers_2 = \"\"\"\n",
    "900\n",
    "8000000\n",
    "90000000\n",
    "70000\n",
    "100000000\n",
    "2000000\n",
    "50000000000\n",
    "\"\"\""
   ]
  },
  {
   "cell_type": "code",
   "execution_count": null,
   "metadata": {},
   "outputs": [],
   "source": [
    "# Convert zeros to millions"
   ]
  },
  {
   "cell_type": "markdown",
   "metadata": {},
   "source": [
    "Corregir con el uso de `\\b`"
   ]
  },
  {
   "cell_type": "code",
   "execution_count": null,
   "metadata": {},
   "outputs": [],
   "source": []
  },
  {
   "cell_type": "markdown",
   "metadata": {},
   "source": [
    "### LLaves, máximo y no límite de correspondencias\n",
    "\n",
    "Si se quiere coincidir con *m* número de repeticiones, pero menor que *n* número, se puede incluir tanto *m*, como *n* en la notación de paréntesis. \n",
    "\n",
    "```python\n",
    "\n",
    "```"
   ]
  },
  {
   "cell_type": "code",
   "execution_count": 9,
   "metadata": {},
   "outputs": [
    {
     "data": {
      "text/plain": [
       "['000', '0000000']"
      ]
     },
     "execution_count": 9,
     "metadata": {},
     "output_type": "execute_result"
    }
   ],
   "source": [
    "num = \"\"\"\n",
    "000100000000\n",
    "\"\"\"\n",
    "\n",
    "re.findall(r'0{3,7}', num)"
   ]
  },
  {
   "cell_type": "markdown",
   "metadata": {},
   "source": [
    "Si se omite el segundo parámetro (el número máximo de repeticiones) pero se deja la coma:"
   ]
  },
  {
   "cell_type": "code",
   "execution_count": 10,
   "metadata": {},
   "outputs": [
    {
     "data": {
      "text/plain": [
       "['000', '00000000']"
      ]
     },
     "execution_count": 10,
     "metadata": {},
     "output_type": "execute_result"
    }
   ],
   "source": [
    "re.findall(r'0{3,}', num)"
   ]
  },
  {
   "cell_type": "code",
   "execution_count": null,
   "metadata": {},
   "outputs": [],
   "source": []
  },
  {
   "cell_type": "markdown",
   "metadata": {},
   "source": [
    "La regex encontrará correspondencia con una cadena que contiene por lo menos tres o más ceros consecutivos."
   ]
  },
  {
   "cell_type": "markdown",
   "metadata": {},
   "source": [
    "### Ejericicio: Baa\n",
    "\n"
   ]
  },
  {
   "cell_type": "code",
   "execution_count": null,
   "metadata": {},
   "outputs": [],
   "source": [
    "paragraph = \"\"\"\n",
    "Sheep in Northwest America say “baaaaa.” Sheep in Mongolia also say “baaaaaaaa.”\n",
    "The deepest conversation I ever had with a sheep went like this:\n",
    "“Hello!” “Baaaaa” “You’ve been a bad sheep!” “Baaaaaaaa!”\n",
    "\"\"\""
   ]
  },
  {
   "cell_type": "code",
   "execution_count": 1,
   "metadata": {},
   "outputs": [
    {
     "ename": "NameError",
     "evalue": "name 're' is not defined",
     "output_type": "error",
     "traceback": [
      "\u001b[0;31m---------------------------------------------------------------------------\u001b[0m",
      "\u001b[0;31mNameError\u001b[0m                                 Traceback (most recent call last)",
      "Cell \u001b[0;32mIn[1], line 1\u001b[0m\n\u001b[0;32m----> 1\u001b[0m \u001b[43mre\u001b[49m\u001b[38;5;241m.\u001b[39msub(\u001b[38;5;124mr\u001b[39m\u001b[38;5;124m'\u001b[39m\u001b[38;5;124ma+\u001b[39m\u001b[38;5;124m'\u001b[39m, \u001b[38;5;124m'\u001b[39m\u001b[38;5;124maa\u001b[39m\u001b[38;5;124m'\u001b[39m, paragraph)\n",
      "\u001b[0;31mNameError\u001b[0m: name 're' is not defined"
     ]
    }
   ],
   "source": [
    "re.sub(r'a+', 'aa', paragraph)"
   ]
  },
  {
   "cell_type": "markdown",
   "metadata": {},
   "source": [
    "Corregir con llaves para que solo sustituya los casos con más de tres `a`."
   ]
  },
  {
   "cell_type": "code",
   "execution_count": null,
   "metadata": {},
   "outputs": [],
   "source": [
    "re.sub(r'___', '____', paragraph)"
   ]
  },
  {
   "cell_type": "markdown",
   "metadata": {},
   "source": [
    "### Ejercicio: Markdown\n",
    "\n",
    "Ajustar los tipos de títulos a: Título 1 (#), Título 2 (##) y Título e (###)."
   ]
  },
  {
   "cell_type": "code",
   "execution_count": null,
   "metadata": {},
   "outputs": [],
   "source": [
    "markdown = \"\"\"\n",
    "# Act I\n",
    "### Scene 1\n",
    "#### Soliloquy A\n",
    "#### Soliloquy B\n",
    "# Act 2\n",
    "### Scene 1\n",
    "### Scene 2\n",
    "#### Soliloquy A\n",
    "# Act 3\n",
    "### Scene 1\n",
    "\"\"\""
   ]
  },
  {
   "cell_type": "code",
   "execution_count": null,
   "metadata": {},
   "outputs": [],
   "source": [
    "re.sub(r'___', '____', markdown)"
   ]
  },
  {
   "cell_type": "markdown",
   "metadata": {},
   "source": [
    "# Anclas, una manera de reducir vacíos \n",
    "\n",
    "## El símbolo `^`  como ancla de inicio\n",
    "\n",
    "Si tenemos la necesidad de hacer una correspondencia con el inicio de la línea se utiliza el cursor `^`."
   ]
  },
  {
   "cell_type": "code",
   "execution_count": 34,
   "metadata": {},
   "outputs": [],
   "source": [
    "message = \"hello goodbye \\nhello hello goodbye hello\""
   ]
  },
  {
   "cell_type": "code",
   "execution_count": 35,
   "metadata": {},
   "outputs": [
    {
     "data": {
      "text/plain": [
       "['hello', 'hello']"
      ]
     },
     "execution_count": 35,
     "metadata": {},
     "output_type": "execute_result"
    }
   ],
   "source": [
    "re.findall(r'^hello', message, flags=re.MULTILINE)"
   ]
  },
  {
   "cell_type": "markdown",
   "metadata": {},
   "source": [
    "## El símbolo `$` como ancla de final\n",
    "\n",
    "En este caso, el `$` permite hacer una correspondencia con el final de la línea.\n"
   ]
  },
  {
   "cell_type": "code",
   "execution_count": 22,
   "metadata": {},
   "outputs": [],
   "source": [
    "message = \"goodbye, world \\nworld goodbye\""
   ]
  },
  {
   "cell_type": "code",
   "execution_count": 25,
   "metadata": {},
   "outputs": [
    {
     "data": {
      "text/plain": [
       "['goodbye']"
      ]
     },
     "execution_count": 25,
     "metadata": {},
     "output_type": "execute_result"
    }
   ],
   "source": [
    "re.findall(r'goodbye$', message)"
   ]
  },
  {
   "cell_type": "markdown",
   "metadata": {},
   "source": [
    "### Ejercicio: agregar un nombre de archivo común a una lista de directorios\n",
    "\n"
   ]
  },
  {
   "cell_type": "code",
   "execution_count": null,
   "metadata": {},
   "outputs": [],
   "source": [
    "filenames = \"\"\"\n",
    "http://example.com/events/\n",
    "http://example.com/people/\n",
    "http://example.com/places/\n",
    "\"\"\""
   ]
  },
  {
   "cell_type": "code",
   "execution_count": 37,
   "metadata": {},
   "outputs": [
    {
     "name": "stdout",
     "output_type": "stream",
     "text": [
      "\n",
      "http://example.com/events/index.html\n",
      "http://example.com/people/index.html\n",
      "http://example.com/places/index.html\n",
      "\n"
     ]
    }
   ],
   "source": [
    "# Add index.html to each URL\n",
    "# http://example.com/events/index.html\n",
    "# http://example.com/people/index.html\n",
    "# http://example.com/places/index.html\n",
    "\n",
    "result = re.sub(r'/$', '/index.html', filenames, flags=re.MULTILINE)\n",
    "\n",
    "print(result)"
   ]
  },
  {
   "cell_type": "markdown",
   "metadata": {},
   "source": [
    "## Escapar caracteres especiales"
   ]
  },
  {
   "cell_type": "code",
   "execution_count": 41,
   "metadata": {},
   "outputs": [
    {
     "data": {
      "text/plain": [
       "[]"
      ]
     },
     "execution_count": 41,
     "metadata": {},
     "output_type": "execute_result"
    }
   ],
   "source": [
    "answers = \"He gave me $100 dollar, I gave him $10000 dollars.\"\n",
    "\n",
    "re.findall(r'$10+', answers)"
   ]
  },
  {
   "cell_type": "code",
   "execution_count": 42,
   "metadata": {},
   "outputs": [
    {
     "data": {
      "text/plain": [
       "['$100', '$10000']"
      ]
     },
     "execution_count": 42,
     "metadata": {},
     "output_type": "execute_result"
    }
   ],
   "source": [
    "re.findall(r'\\$10+', answers)"
   ]
  },
  {
   "cell_type": "markdown",
   "metadata": {},
   "source": [
    "### Ejercicio: eliminar los signos de dollar extras a las cantidades"
   ]
  },
  {
   "cell_type": "code",
   "execution_count": 44,
   "metadata": {},
   "outputs": [
    {
     "ename": "TypeError",
     "evalue": "sub() missing 3 required positional arguments: 'pattern', 'repl', and 'string'",
     "output_type": "error",
     "traceback": [
      "\u001b[0;31m---------------------------------------------------------------------------\u001b[0m",
      "\u001b[0;31mTypeError\u001b[0m                                 Traceback (most recent call last)",
      "Cell \u001b[0;32mIn[44], line 8\u001b[0m\n\u001b[1;32m      1\u001b[0m amounts \u001b[38;5;241m=\u001b[39m \u001b[38;5;124m\"\"\"\u001b[39m\n\u001b[1;32m      2\u001b[0m \u001b[38;5;124m$$100\u001b[39m\n\u001b[1;32m      3\u001b[0m \u001b[38;5;124m$$$200\u001b[39m\n\u001b[1;32m      4\u001b[0m \u001b[38;5;124m$50\u001b[39m\n\u001b[1;32m      5\u001b[0m \u001b[38;5;124m$$$$300\u001b[39m\n\u001b[1;32m      6\u001b[0m \u001b[38;5;124m\"\"\"\u001b[39m\n\u001b[0;32m----> 8\u001b[0m result \u001b[38;5;241m=\u001b[39m \u001b[43mre\u001b[49m\u001b[38;5;241;43m.\u001b[39;49m\u001b[43msub\u001b[49m\u001b[43m(\u001b[49m\u001b[43m)\u001b[49m\n\u001b[1;32m      9\u001b[0m \u001b[38;5;28mprint\u001b[39m(result)   \n",
      "\u001b[0;31mTypeError\u001b[0m: sub() missing 3 required positional arguments: 'pattern', 'repl', and 'string'"
     ]
    }
   ],
   "source": [
    "amounts = \"\"\"\n",
    "$$100\n",
    "$$$200\n",
    "$50\n",
    "$$$$300\n",
    "\"\"\"\n",
    "\n",
    "result = re.sub()\n",
    "print(result)   "
   ]
  },
  {
   "cell_type": "markdown",
   "metadata": {},
   "source": [
    "# Correspondencia de letras o números\n",
    "\n",
    "## La clase de caracteres numéricos\n",
    "\n",
    "El símbolo `\\d` corresponde con cualquier dígito del 0 al 9.\n",
    "\n"
   ]
  },
  {
   "cell_type": "code",
   "execution_count": 47,
   "metadata": {},
   "outputs": [],
   "source": [
    "phrase = \"\"\"\n",
    "The robbery was reported on January 12, 2013. At 9:40, the suspect is alleged to have\n",
    "entered the pizzeria at 120 Broadway and stolen 9 bags of oregano.\n",
    "\"\"\""
   ]
  },
  {
   "cell_type": "code",
   "execution_count": 49,
   "metadata": {},
   "outputs": [
    {
     "name": "stdout",
     "output_type": "stream",
     "text": [
      "\n",
      "The robbery was reported on January XX, XXXX. At X:XX, the suspect is alleged to have\n",
      "entered the pizzeria at XXX Broadway and stolen X bags of oregano.\n",
      "\n"
     ]
    }
   ],
   "source": [
    "# Reemplazar los números con la letra X\n",
    "result = re.sub(r'\\d', 'X', phrase)\n",
    "print(result)"
   ]
  },
  {
   "cell_type": "markdown",
   "metadata": {},
   "source": [
    "## La clase de caracteres de palabra\n",
    "\n",
    "Los caracteres de palabra incluyen de la A la Z (mayúsculas y minúsculas), números y guión bajo.\n"
   ]
  },
  {
   "cell_type": "code",
   "execution_count": 51,
   "metadata": {},
   "outputs": [
    {
     "name": "stdout",
     "output_type": "stream",
     "text": [
      "\n",
      "XXX XXXXXXX XXX XXXXXXXX XX XXXXXXX XX, XXXX. XX X:XX, XXX XXXXXXX XX XXXXXXX XX XXXX\n",
      "XXXXXXX XXX XXXXXXXX XX XXX XXXXXXXX XXX XXXXXX X XXXX XX XXXXXXX.\n",
      "\n"
     ]
    }
   ],
   "source": [
    "# Reemplozar todos los caracteres que son letras\n",
    "result = re.sub(r'\\w', 'X', phrase)\n",
    "print(result)"
   ]
  },
  {
   "cell_type": "markdown",
   "metadata": {},
   "source": [
    "## Clase de caracteres entre corchetes\n",
    "\n",
    "Se puede especificar solo algunos caracteres que busquemos utilizando los corchetes `[]`\n",
    "\n",
    "`[bcd]og`\n",
    "\n",
    "corresponde con: `bog`, `cog` y `dog`."
   ]
  },
  {
   "cell_type": "markdown",
   "metadata": {},
   "source": [
    "### Ejercicio: solo números\n",
    "\n"
   ]
  },
  {
   "cell_type": "code",
   "execution_count": 52,
   "metadata": {},
   "outputs": [
    {
     "name": "stdout",
     "output_type": "stream",
     "text": [
      "\n",
      "1200.00\n",
      "5600.25\n",
      "100.09\n",
      "42100.01\n",
      "\n"
     ]
    }
   ],
   "source": [
    "numbers = \"\"\"\n",
    "$1,200.00\n",
    "$5,600.25\n",
    "$100.09\n",
    "$42,100.01\n",
    "\"\"\"\n",
    "\n",
    "# Eliminar los signos de dólar y las comas\n",
    "result = re.sub(r'\\$|,', '', numbers)\n",
    "print(result)"
   ]
  },
  {
   "cell_type": "markdown",
   "metadata": {},
   "source": [
    "## Rango de caracteres con corchetes y guión\n",
    "\n",
    "Para trabajar con varios caracteres:\n",
    "\n",
    "`[abcdefghij]`\n",
    "\n",
    "El guión actúa como carácter especial dentro de los corchetes. Indica un rango entre dos caracteres.\n",
    "\n",
    "- [a-z]\n",
    "- [1-5B-G]\n",
    "\n",
    "### Ejercicio: filtrando mal comportamiento\n",
    "\n",
    "En este ejemplo, suponemos que en las políticas de un foro existen palabras inapropiadas como `heck` y deben ser censuradas con `---`. Los usuarios tratan de violar la regla utilizando alternativas como: `h3ck`, `hecck`, `hekk`. Y otros tipos de permutaciones como: `h33ck`, `h3kk`, `h3cck`.\n",
    "\n",
    "Considera el siguiente distingudo comunicado:"
   ]
  },
  {
   "cell_type": "code",
   "execution_count": 53,
   "metadata": {},
   "outputs": [],
   "source": [
    "communique = \"\"\"\n",
    "Go heck yourself you dumb hacker. You don't know what the h3ck you are hekking\n",
    "doing, so go back to your H3KK-hole farm and go shuck some h3cking corn.\n",
    "\"\"\""
   ]
  },
  {
   "cell_type": "code",
   "execution_count": 58,
   "metadata": {},
   "outputs": [
    {
     "name": "stdout",
     "output_type": "stream",
     "text": [
      "\n",
      "Go --- yourself you dumb hacker. You don't know what the --- you are ---ing\n",
      "doing, so go back to your ----hole farm and go shuck some ---ing corn.\n",
      "\n"
     ]
    }
   ],
   "source": [
    "# Reemplazar las variaciones de \"heck\" y \"h3ck\" por \"---\"\n",
    "result = re.sub(r'[hH][eE3][cCkK]+', '---', communique,)\n",
    "print(result)"
   ]
  },
  {
   "cell_type": "code",
   "execution_count": 59,
   "metadata": {},
   "outputs": [
    {
     "name": "stdout",
     "output_type": "stream",
     "text": [
      "\n",
      "Go --- yourself you dumb hacker. You don't know what the --- you are hekking\n",
      "doing, so go back to your H3KK-hole farm and go shuck some ---ing corn.\n",
      "\n"
     ]
    }
   ],
   "source": [
    "# Reemplazar las variaciones de \"heck\" y \"h3ck\" por \"---\"\n",
    "result = re.sub(r'h[e3]ck', '---', communique, flags=re.IGNORECASE)\n",
    "print(result)   "
   ]
  },
  {
   "cell_type": "markdown",
   "metadata": {},
   "source": [
    "En el ejemplo anterior `[e3]` solo corresponde tanto con `e` o `3`,  pero solo con alguno de estos caracteres. Por lo tanto, `he3ck`  no tendrá coincidencia. \n",
    "\n",
    "\n",
    "Para resolver este tipo de problema podemos utilizar la notación `+` en combinación con los corchete. Por ejemplo:\n",
    "\n",
    "```python\n",
    "numbers = \"\"\"\n",
    "1 apple\n",
    "2 orange\n",
    "\"\"\"\n",
    "```\n",
    "\n",
    "[123456789][a-z]+\n"
   ]
  }
 ],
 "metadata": {
  "kernelspec": {
   "display_name": "mcd-projectsI2025a",
   "language": "python",
   "name": "python3"
  },
  "language_info": {
   "codemirror_mode": {
    "name": "ipython",
    "version": 3
   },
   "file_extension": ".py",
   "mimetype": "text/x-python",
   "name": "python",
   "nbconvert_exporter": "python",
   "pygments_lexer": "ipython3",
   "version": "3.13.0"
  }
 },
 "nbformat": 4,
 "nbformat_minor": 2
}
